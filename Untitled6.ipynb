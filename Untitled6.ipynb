{
 "cells": [
  {
   "cell_type": "code",
   "execution_count": 6,
   "id": "9ac49b62-3637-4be1-a218-279ec1cb5ade",
   "metadata": {},
   "outputs": [
    {
     "name": "stdout",
     "output_type": "stream",
     "text": [
      "*\n",
      "* *\n",
      "* * *\n",
      "* * * *\n",
      "* * * * *\n",
      "* * * *\n",
      "* * *\n",
      "* *\n",
      "*\n"
     ]
    }
   ],
   "source": [
    "def display_star_pattern():\n",
    "    pattern = [\"*\", \"* *\", \"* * *\", \"* * * *\", \"* * * * *\", \"* * * *\", \"* * *\", \"* *\", \"*\"]\n",
    "    for stars in pattern:\n",
    "     print(stars)\n",
    "display_star_pattern()"
   ]
  },
  {
   "cell_type": "code",
   "execution_count": 2,
   "id": "2aa7fac1-08da-4499-9e86-25e39d8643a6",
   "metadata": {},
   "outputs": [
    {
     "name": "stdout",
     "output_type": "stream",
     "text": [
      "20\n",
      "40\n",
      "60\n",
      "80\n",
      "100\n"
     ]
    }
   ],
   "source": [
    "my_list = [10, 20, 30, 40, 50, 60, 70, 80, 90, 100]\n",
    "for i in range(len(my_list)):\n",
    "    if i % 2 != 0:  \n",
    "        print(my_list[i])"
   ]
  },
  {
   "cell_type": "code",
   "execution_count": 3,
   "id": "40c7afdc-75c9-47f9-b699-8c5b8b1bcdeb",
   "metadata": {},
   "outputs": [
    {
     "name": "stdout",
     "output_type": "stream",
     "text": [
      "[23, 'Python', 23.98]\n",
      "[<class 'int'>, <class 'str'>, <class 'float'>]\n"
     ]
    }
   ],
   "source": [
    "x = [23, 'Python', 23.98]\n",
    "type_list = []\n",
    "for element in x:\n",
    "    type_list.append(type(element))\n",
    "print(x)\n",
    "print(type_list)"
   ]
  },
  {
   "cell_type": "code",
   "execution_count": 4,
   "id": "bf740f6f-6dd8-427b-bfd5-1ce196b9f115",
   "metadata": {},
   "outputs": [
    {
     "name": "stdout",
     "output_type": "stream",
     "text": [
      "Sample List: [1, 2, 3, 3, 3, 3, 4, 5]\n",
      "Unique List: [1, 2, 3, 4, 5]\n"
     ]
    }
   ],
   "source": [
    "def get_unique_items(input_list):\n",
    "    unique_list = list(set(input_list))\n",
    "    return unique_list\n",
    "sample_list = [1, 2, 3, 3, 3, 3, 4, 5]\n",
    "unique_list = get_unique_items(sample_list)\n",
    "print(\"Sample List:\", sample_list)\n",
    "print(\"Unique List:\", unique_list )"
   ]
  },
  {
   "cell_type": "code",
   "execution_count": 5,
   "id": "dd18c506-0e78-46ae-a766-881773eafe88",
   "metadata": {},
   "outputs": [
    {
     "name": "stdout",
     "output_type": "stream",
     "text": [
      "Input String: The quick Brow Fox\n",
      "Number of uppercase letters: 3\n",
      "Number of lowercase letters: 12\n"
     ]
    }
   ],
   "source": [
    "def count_upper_lower(input_string):\n",
    "    upper_count = 0\n",
    "    lower_count = 0\n",
    "    for char in input_string:\n",
    "        if char.isupper():\n",
    "            upper_count += 1\n",
    "        elif char.islower():\n",
    "            lower_count += 1\n",
    "    return upper_count, lower_count\n",
    "input_string = 'The quick Brow Fox'\n",
    "upper_count, lower_count = count_upper_lower(input_string)\n",
    "print(\"Input String:\", input_string)\n",
    "print(\"Number of uppercase letters:\", upper_count)\n",
    "print(\"Number of lowercase letters:\", lower_count)"
   ]
  },
  {
   "cell_type": "code",
   "execution_count": null,
   "id": "b22e6ec2-5b72-48c7-8977-9d68077f1110",
   "metadata": {},
   "outputs": [],
   "source": []
  }
 ],
 "metadata": {
  "kernelspec": {
   "display_name": "Python 3 (ipykernel)",
   "language": "python",
   "name": "python3"
  },
  "language_info": {
   "codemirror_mode": {
    "name": "ipython",
    "version": 3
   },
   "file_extension": ".py",
   "mimetype": "text/x-python",
   "name": "python",
   "nbconvert_exporter": "python",
   "pygments_lexer": "ipython3",
   "version": "3.11.7"
  }
 },
 "nbformat": 4,
 "nbformat_minor": 5
}
